{
  "nbformat": 4,
  "nbformat_minor": 0,
  "metadata": {
    "colab": {
      "name": "HR analytics PySpark.ipynb",
      "provenance": [],
      "authorship_tag": "ABX9TyOflYsQdHWh+JXjDHksNhJh",
      "include_colab_link": true
    },
    "kernelspec": {
      "name": "python3",
      "display_name": "Python 3"
    },
    "language_info": {
      "name": "python"
    }
  },
  "cells": [
    {
      "cell_type": "markdown",
      "metadata": {
        "id": "view-in-github",
        "colab_type": "text"
      },
      "source": [
        "<a href=\"https://colab.research.google.com/github/Vijayputta007/Bank_transactions/blob/main/HR_analytics_PySpark.ipynb\" target=\"_parent\"><img src=\"https://colab.research.google.com/assets/colab-badge.svg\" alt=\"Open In Colab\"/></a>"
      ]
    },
    {
      "cell_type": "code",
      "execution_count": 1,
      "metadata": {
        "colab": {
          "base_uri": "https://localhost:8080/"
        },
        "id": "GzCwDpE1w5UQ",
        "outputId": "9cf7a5e9-c676-4195-f09d-83aa65328677"
      },
      "outputs": [
        {
          "output_type": "stream",
          "name": "stdout",
          "text": [
            "Collecting pyspark\n",
            "  Downloading pyspark-3.2.1.tar.gz (281.4 MB)\n",
            "\u001b[K     |████████████████████████████████| 281.4 MB 32 kB/s \n",
            "\u001b[?25hCollecting py4j==0.10.9.3\n",
            "  Downloading py4j-0.10.9.3-py2.py3-none-any.whl (198 kB)\n",
            "\u001b[K     |████████████████████████████████| 198 kB 45.7 MB/s \n",
            "\u001b[?25hBuilding wheels for collected packages: pyspark\n",
            "  Building wheel for pyspark (setup.py) ... \u001b[?25l\u001b[?25hdone\n",
            "  Created wheel for pyspark: filename=pyspark-3.2.1-py2.py3-none-any.whl size=281853642 sha256=366de848b465415c4cbd1c2cb403a3a77c9f168435f0cf242cd894e5db687a2f\n",
            "  Stored in directory: /root/.cache/pip/wheels/9f/f5/07/7cd8017084dce4e93e84e92efd1e1d5334db05f2e83bcef74f\n",
            "Successfully built pyspark\n",
            "Installing collected packages: py4j, pyspark\n",
            "Successfully installed py4j-0.10.9.3 pyspark-3.2.1\n"
          ]
        }
      ],
      "source": [
        "!pip install pyspark"
      ]
    },
    {
      "cell_type": "code",
      "source": [
        "import pyspark"
      ],
      "metadata": {
        "id": "-2BzpGrrw82i"
      },
      "execution_count": 2,
      "outputs": []
    },
    {
      "cell_type": "code",
      "source": [
        "from pyspark.sql import SparkSession\n",
        "spark = SparkSession.builder.appName('HR Analytics').getOrCreate()"
      ],
      "metadata": {
        "id": "-BH4TDlBxXTX"
      },
      "execution_count": 4,
      "outputs": []
    },
    {
      "cell_type": "code",
      "source": [
        "hrtrain = spark.read.csv('HRtrain.csv',inferSchema=True, header=True)"
      ],
      "metadata": {
        "id": "Mu_XCE8qxc_7"
      },
      "execution_count": 6,
      "outputs": []
    },
    {
      "cell_type": "code",
      "source": [
        "hrtest= spark.read.csv('HRtest.csv',inferSchema=True, header=True)"
      ],
      "metadata": {
        "id": "1nflKBHEzEC0"
      },
      "execution_count": 8,
      "outputs": []
    },
    {
      "cell_type": "code",
      "source": [
        "hrtrain.show(5)"
      ],
      "metadata": {
        "colab": {
          "base_uri": "https://localhost:8080/"
        },
        "id": "80v7If0EzRUQ",
        "outputId": "a808f453-6844-47c7-87a5-025dd7d7064f"
      },
      "execution_count": 9,
      "outputs": [
        {
          "output_type": "stream",
          "name": "stdout",
          "text": [
            "+-----------+-----------------+---------+----------------+------+-------------------+---------------+---+--------------------+-----------------+-------------+-----------+------------------+-----------+\n",
            "|employee_id|       department|   region|       education|gender|recruitment_channel|no_of_trainings|age|previous_year_rating|length_of_service|KPIs_met >80%|awards_won?|avg_training_score|is_promoted|\n",
            "+-----------+-----------------+---------+----------------+------+-------------------+---------------+---+--------------------+-----------------+-------------+-----------+------------------+-----------+\n",
            "|      65438|Sales & Marketing| region_7|Master's & above|     f|           sourcing|              1| 35|                   5|                8|            1|          0|                49|          0|\n",
            "|      65141|       Operations|region_22|      Bachelor's|     m|              other|              1| 30|                   5|                4|            0|          0|                60|          0|\n",
            "|       7513|Sales & Marketing|region_19|      Bachelor's|     m|           sourcing|              1| 34|                   3|                7|            0|          0|                50|          0|\n",
            "|       2542|Sales & Marketing|region_23|      Bachelor's|     m|              other|              2| 39|                   1|               10|            0|          0|                50|          0|\n",
            "|      48945|       Technology|region_26|      Bachelor's|     m|              other|              1| 45|                   3|                2|            0|          0|                73|          0|\n",
            "+-----------+-----------------+---------+----------------+------+-------------------+---------------+---+--------------------+-----------------+-------------+-----------+------------------+-----------+\n",
            "only showing top 5 rows\n",
            "\n"
          ]
        }
      ]
    },
    {
      "cell_type": "code",
      "source": [
        "from pyspark.sql.functions import isnull,when,count,col"
      ],
      "metadata": {
        "id": "yKFzT0Waz0V0"
      },
      "execution_count": 10,
      "outputs": []
    },
    {
      "cell_type": "code",
      "source": [
        "hrtrain.select([count(when(isnull(c),c)).alias(c) for c in hrtrain.columns]).show()"
      ],
      "metadata": {
        "colab": {
          "base_uri": "https://localhost:8080/"
        },
        "id": "R_b5_d8w0AHZ",
        "outputId": "8a571893-119f-493b-baf1-42fcbd2c6a2a"
      },
      "execution_count": 13,
      "outputs": [
        {
          "output_type": "stream",
          "name": "stdout",
          "text": [
            "+-----------+----------+------+---------+------+-------------------+---------------+---+--------------------+-----------------+-------------+-----------+------------------+-----------+\n",
            "|employee_id|department|region|education|gender|recruitment_channel|no_of_trainings|age|previous_year_rating|length_of_service|KPIs_met >80%|awards_won?|avg_training_score|is_promoted|\n",
            "+-----------+----------+------+---------+------+-------------------+---------------+---+--------------------+-----------------+-------------+-----------+------------------+-----------+\n",
            "|          0|         0|     0|     2409|     0|                  0|              0|  0|                4124|                0|            0|          0|                 0|          0|\n",
            "+-----------+----------+------+---------+------+-------------------+---------------+---+--------------------+-----------------+-------------+-----------+------------------+-----------+\n",
            "\n"
          ]
        }
      ]
    },
    {
      "cell_type": "code",
      "source": [
        "hrtest.select([count(when(isnull(c),c)).alias(c) for c in hrtest.columns]).show()"
      ],
      "metadata": {
        "colab": {
          "base_uri": "https://localhost:8080/"
        },
        "id": "LQzdY13M0QRi",
        "outputId": "639cf75b-9038-428e-b58a-5c56ecbe540d"
      },
      "execution_count": 14,
      "outputs": [
        {
          "output_type": "stream",
          "name": "stdout",
          "text": [
            "+-----------+----------+------+---------+------+-------------------+---------------+---+--------------------+-----------------+-------------+-----------+------------------+\n",
            "|employee_id|department|region|education|gender|recruitment_channel|no_of_trainings|age|previous_year_rating|length_of_service|KPIs_met >80%|awards_won?|avg_training_score|\n",
            "+-----------+----------+------+---------+------+-------------------+---------------+---+--------------------+-----------------+-------------+-----------+------------------+\n",
            "|          0|         0|     0|     1034|     0|                  0|              0|  0|                1812|                0|            0|          0|                 0|\n",
            "+-----------+----------+------+---------+------+-------------------+---------------+---+--------------------+-----------------+-------------+-----------+------------------+\n",
            "\n"
          ]
        }
      ]
    },
    {
      "cell_type": "code",
      "source": [
        "hrtrain.groupBy('education').count().show()"
      ],
      "metadata": {
        "colab": {
          "base_uri": "https://localhost:8080/"
        },
        "id": "PdVzWwHm0oTP",
        "outputId": "33ec209c-bc37-471c-fe6c-17c64a31b28e"
      },
      "execution_count": 15,
      "outputs": [
        {
          "output_type": "stream",
          "name": "stdout",
          "text": [
            "+----------------+-----+\n",
            "|       education|count|\n",
            "+----------------+-----+\n",
            "|            null| 2409|\n",
            "| Below Secondary|  805|\n",
            "|Master's & above|14925|\n",
            "|      Bachelor's|36669|\n",
            "+----------------+-----+\n",
            "\n"
          ]
        }
      ]
    },
    {
      "cell_type": "code",
      "source": [
        "hrtest.groupBy('education').count().show()"
      ],
      "metadata": {
        "colab": {
          "base_uri": "https://localhost:8080/"
        },
        "id": "pszbOkes1h3X",
        "outputId": "3f37c96d-57c3-4db9-f9dd-f42439781b9e"
      },
      "execution_count": 16,
      "outputs": [
        {
          "output_type": "stream",
          "name": "stdout",
          "text": [
            "+----------------+-----+\n",
            "|       education|count|\n",
            "+----------------+-----+\n",
            "|            null| 1034|\n",
            "| Below Secondary|  374|\n",
            "|Master's & above| 6504|\n",
            "|      Bachelor's|15578|\n",
            "+----------------+-----+\n",
            "\n"
          ]
        }
      ]
    },
    {
      "cell_type": "code",
      "source": [
        "hrtrain = hrtrain.na.fill(value=\"Bachelor's\",subset=['education'])"
      ],
      "metadata": {
        "id": "MwIKQtta1ZqC"
      },
      "execution_count": 18,
      "outputs": []
    },
    {
      "cell_type": "code",
      "source": [
        "hrtest= hrtest.na.fill(value=\"Bachelor's\",subset=['education'])"
      ],
      "metadata": {
        "id": "dao4Y3TL12Xr"
      },
      "execution_count": 19,
      "outputs": []
    },
    {
      "cell_type": "code",
      "source": [
        "hrtrain.groupBy('previous_year_rating').count().show()"
      ],
      "metadata": {
        "colab": {
          "base_uri": "https://localhost:8080/"
        },
        "id": "2JboE0TW1_mH",
        "outputId": "3da1f86f-6b03-424c-9063-0da395f7d3ec"
      },
      "execution_count": 21,
      "outputs": [
        {
          "output_type": "stream",
          "name": "stdout",
          "text": [
            "+--------------------+-----+\n",
            "|previous_year_rating|count|\n",
            "+--------------------+-----+\n",
            "|                null| 4124|\n",
            "|                   1| 6223|\n",
            "|                   3|18618|\n",
            "|                   5|11741|\n",
            "|                   4| 9877|\n",
            "|                   2| 4225|\n",
            "+--------------------+-----+\n",
            "\n"
          ]
        }
      ]
    },
    {
      "cell_type": "code",
      "source": [
        "hrtrain=hrtrain.na.fill(value=3,subset=['previous_year_rating'])"
      ],
      "metadata": {
        "id": "I1KbGXwZ2ufo"
      },
      "execution_count": 22,
      "outputs": []
    },
    {
      "cell_type": "code",
      "source": [
        "hrtest=hrtest.na.fill(value=3,subset=['previous_year_rating'])"
      ],
      "metadata": {
        "id": "3sFDatPn29IE"
      },
      "execution_count": 23,
      "outputs": []
    },
    {
      "cell_type": "code",
      "source": [
        "hrtrain.columns"
      ],
      "metadata": {
        "colab": {
          "base_uri": "https://localhost:8080/"
        },
        "id": "DnyzSk2n3JWZ",
        "outputId": "33b9ef4a-33db-43f7-d09e-9f3ba6ab4872"
      },
      "execution_count": 24,
      "outputs": [
        {
          "output_type": "execute_result",
          "data": {
            "text/plain": [
              "['employee_id',\n",
              " 'department',\n",
              " 'region',\n",
              " 'education',\n",
              " 'gender',\n",
              " 'recruitment_channel',\n",
              " 'no_of_trainings',\n",
              " 'age',\n",
              " 'previous_year_rating',\n",
              " 'length_of_service',\n",
              " 'KPIs_met >80%',\n",
              " 'awards_won?',\n",
              " 'avg_training_score',\n",
              " 'is_promoted']"
            ]
          },
          "metadata": {},
          "execution_count": 24
        }
      ]
    },
    {
      "cell_type": "code",
      "source": [
        "from pyspark.ml import Pipeline\n",
        "from pyspark.ml.feature import StringIndexer"
      ],
      "metadata": {
        "id": "V6V2a55Y32Vm"
      },
      "execution_count": 34,
      "outputs": []
    },
    {
      "cell_type": "code",
      "source": [
        "indexer= [StringIndexer(inputCol=col,outputCol=col+'_index').fit(hrtrain)\n",
        "for col in list(set(hrtrain.columns)-set(['avg_training_score','length_of_service','age','no_of_trainings','employee_id']))]"
      ],
      "metadata": {
        "id": "i-gCOMWk4SY_"
      },
      "execution_count": 31,
      "outputs": []
    },
    {
      "cell_type": "code",
      "source": [
        "pipeline = Pipeline(stages=indexer)"
      ],
      "metadata": {
        "id": "m9ujSN3y44rY"
      },
      "execution_count": 35,
      "outputs": []
    },
    {
      "cell_type": "code",
      "source": [
        "hrtraindf=pipeline.fit(hrtrain).transform(hrtrain)"
      ],
      "metadata": {
        "id": "QctnBFBz5gaz"
      },
      "execution_count": 36,
      "outputs": []
    },
    {
      "cell_type": "code",
      "source": [
        "hrtestdf=pipeline.fit(hrtest).transform(hrtest)"
      ],
      "metadata": {
        "id": "0wSJOko25r4B"
      },
      "execution_count": 38,
      "outputs": []
    },
    {
      "cell_type": "code",
      "source": [
        "hrtraindf.columns"
      ],
      "metadata": {
        "colab": {
          "base_uri": "https://localhost:8080/"
        },
        "id": "RRsS4epk5v5V",
        "outputId": "7848439f-6ccc-480b-ea5e-c5ec0db1d87e"
      },
      "execution_count": 39,
      "outputs": [
        {
          "output_type": "execute_result",
          "data": {
            "text/plain": [
              "['employee_id',\n",
              " 'department',\n",
              " 'region',\n",
              " 'education',\n",
              " 'gender',\n",
              " 'recruitment_channel',\n",
              " 'no_of_trainings',\n",
              " 'age',\n",
              " 'previous_year_rating',\n",
              " 'length_of_service',\n",
              " 'KPIs_met >80%',\n",
              " 'awards_won?',\n",
              " 'avg_training_score',\n",
              " 'is_promoted',\n",
              " 'department_index',\n",
              " 'previous_year_rating_index',\n",
              " 'recruitment_channel_index',\n",
              " 'education_index',\n",
              " 'awards_won?_index',\n",
              " 'KPIs_met >80%_index',\n",
              " 'gender_index',\n",
              " 'region_index',\n",
              " 'is_promoted_index']"
            ]
          },
          "metadata": {},
          "execution_count": 39
        }
      ]
    },
    {
      "cell_type": "code",
      "source": [
        "columnstodrop=['employee_id','department','region','education','gender',\n",
        "               'recruitment_channel','previous_year_rating','KPIs_met >80%',\n",
        "               'awards_won?','is_promoted']"
      ],
      "metadata": {
        "id": "Y21OfPIf6Nrd"
      },
      "execution_count": 40,
      "outputs": []
    },
    {
      "cell_type": "code",
      "source": [
        "hrtraindf=hrtraindf.drop(*columnstodrop)"
      ],
      "metadata": {
        "id": "dMZ1Zw8C62mx"
      },
      "execution_count": 43,
      "outputs": []
    },
    {
      "cell_type": "code",
      "source": [
        "hrtestdf=hrtestdf.drop(*columnstodrop)"
      ],
      "metadata": {
        "id": "02AEgz3K68nx"
      },
      "execution_count": 44,
      "outputs": []
    },
    {
      "cell_type": "code",
      "source": [
        "from pyspark.ml.feature import RFormula"
      ],
      "metadata": {
        "id": "eXWvGLS57Czg"
      },
      "execution_count": 45,
      "outputs": []
    },
    {
      "cell_type": "code",
      "source": [
        "formula = RFormula(formula='is_promoted_index~.',featuresCol='features',labelCol='label')"
      ],
      "metadata": {
        "id": "mcJVLxrU8ZY1"
      },
      "execution_count": 52,
      "outputs": []
    },
    {
      "cell_type": "code",
      "source": [
        "hrtraindf=formula.fit(hrtraindf).transform(hrtraindf)"
      ],
      "metadata": {
        "id": "nk8ujnP39KoB"
      },
      "execution_count": 53,
      "outputs": []
    },
    {
      "cell_type": "code",
      "source": [
        "hrtraindf.select('features','label').show(5)"
      ],
      "metadata": {
        "colab": {
          "base_uri": "https://localhost:8080/"
        },
        "id": "dRqi3QNE9UEe",
        "outputId": "2e52dae5-f734-4b92-ce8b-65c483042935"
      },
      "execution_count": 54,
      "outputs": [
        {
          "output_type": "stream",
          "name": "stdout",
          "text": [
            "+--------------------+-----+\n",
            "|            features|label|\n",
            "+--------------------+-----+\n",
            "|[1.0,35.0,8.0,49....|  0.0|\n",
            "|[1.0,30.0,4.0,60....|  0.0|\n",
            "|(12,[0,1,2,3,6,11...|  0.0|\n",
            "|(12,[0,1,2,3,5,11...|  0.0|\n",
            "|(12,[0,1,2,3,4,11...|  0.0|\n",
            "+--------------------+-----+\n",
            "only showing top 5 rows\n",
            "\n"
          ]
        }
      ]
    },
    {
      "cell_type": "code",
      "source": [
        "from pyspark.ml.classification import LogisticRegression"
      ],
      "metadata": {
        "id": "BkxvBrj-9pRu"
      },
      "execution_count": 56,
      "outputs": []
    },
    {
      "cell_type": "code",
      "source": [
        "logit = LogisticRegression(featuresCol='features',labelCol='label')"
      ],
      "metadata": {
        "id": "yv0V9Wus_U3n"
      },
      "execution_count": 57,
      "outputs": []
    },
    {
      "cell_type": "code",
      "source": [
        "logitmodel=logit.fit(hrtraindf)"
      ],
      "metadata": {
        "id": "5HznPVSv_gew"
      },
      "execution_count": 58,
      "outputs": []
    },
    {
      "cell_type": "code",
      "source": [
        "logitmodel.summary.accuracy"
      ],
      "metadata": {
        "colab": {
          "base_uri": "https://localhost:8080/"
        },
        "id": "xLOKfP6i_jX_",
        "outputId": "59159171-4566-4690-bf6f-8e74fd97228c"
      },
      "execution_count": 59,
      "outputs": [
        {
          "output_type": "execute_result",
          "data": {
            "text/plain": [
              "0.9209057071960298"
            ]
          },
          "metadata": {},
          "execution_count": 59
        }
      ]
    },
    {
      "cell_type": "code",
      "source": [
        "logitmodel.summary.areaUnderROC"
      ],
      "metadata": {
        "colab": {
          "base_uri": "https://localhost:8080/"
        },
        "id": "vXM_fwJL_l6Z",
        "outputId": "5e4fddbf-80d6-4ed3-b0b6-74322421f34f"
      },
      "execution_count": 61,
      "outputs": [
        {
          "output_type": "execute_result",
          "data": {
            "text/plain": [
              "0.8074795905654398"
            ]
          },
          "metadata": {},
          "execution_count": 61
        }
      ]
    },
    {
      "cell_type": "code",
      "source": [
        "hrtestdf.columns"
      ],
      "metadata": {
        "colab": {
          "base_uri": "https://localhost:8080/"
        },
        "id": "lRx9jH2P_orm",
        "outputId": "eb7c622a-2ba7-4eb1-cebd-35dc3b5038fd"
      },
      "execution_count": 62,
      "outputs": [
        {
          "output_type": "execute_result",
          "data": {
            "text/plain": [
              "['no_of_trainings',\n",
              " 'age',\n",
              " 'length_of_service',\n",
              " 'avg_training_score',\n",
              " 'department_index',\n",
              " 'previous_year_rating_index',\n",
              " 'recruitment_channel_index',\n",
              " 'education_index',\n",
              " 'awards_won?_index',\n",
              " 'KPIs_met >80%_index',\n",
              " 'gender_index',\n",
              " 'region_index']"
            ]
          },
          "metadata": {},
          "execution_count": 62
        }
      ]
    },
    {
      "cell_type": "code",
      "source": [
        "from pyspark.ml.feature import VectorAssembler"
      ],
      "metadata": {
        "id": "TXGA-S4TAeCc"
      },
      "execution_count": 64,
      "outputs": []
    },
    {
      "cell_type": "code",
      "source": [
        "assembler=VectorAssembler(inputCols=['no_of_trainings','age',\n",
        " 'length_of_service',\n",
        " 'avg_training_score',\n",
        " 'department_index',\n",
        " 'previous_year_rating_index',\n",
        " 'recruitment_channel_index',\n",
        " 'education_index',\n",
        " 'awards_won?_index',\n",
        " 'KPIs_met >80%_index',\n",
        " 'gender_index',\n",
        " 'region_index'],outputCol='features')"
      ],
      "metadata": {
        "id": "vtzG7e3wApp4"
      },
      "execution_count": 67,
      "outputs": []
    },
    {
      "cell_type": "code",
      "source": [
        "hrtestdf=assembler.transform(hrtestdf)"
      ],
      "metadata": {
        "id": "TIDhCQPXA9a4"
      },
      "execution_count": 68,
      "outputs": []
    },
    {
      "cell_type": "code",
      "source": [
        "hrtestdf.show()"
      ],
      "metadata": {
        "colab": {
          "base_uri": "https://localhost:8080/"
        },
        "id": "LkF251C7BJ4z",
        "outputId": "68b2169b-c58a-46b6-a187-9a23105b86a7"
      },
      "execution_count": 69,
      "outputs": [
        {
          "output_type": "stream",
          "name": "stdout",
          "text": [
            "+---------------+---+-----------------+------------------+----------------+--------------------------+-------------------------+---------------+-----------------+-------------------+------------+------------+--------------------+\n",
            "|no_of_trainings|age|length_of_service|avg_training_score|department_index|previous_year_rating_index|recruitment_channel_index|education_index|awards_won?_index|KPIs_met >80%_index|gender_index|region_index|            features|\n",
            "+---------------+---+-----------------+------------------+----------------+--------------------------+-------------------------+---------------+-----------------+-------------------+------------+------------+--------------------+\n",
            "|              1| 24|                1|                77|             3.0|                       0.0|                      1.0|            0.0|              0.0|                1.0|         0.0|         5.0|[1.0,24.0,1.0,77....|\n",
            "|              1| 31|                5|                51|             6.0|                       0.0|                      0.0|            0.0|              0.0|                0.0|         1.0|         7.0|[1.0,31.0,5.0,51....|\n",
            "|              1| 31|                4|                47|             0.0|                       3.0|                      0.0|            0.0|              0.0|                0.0|         0.0|         4.0|(12,[0,1,2,3,5,11...|\n",
            "|              3| 31|                9|                65|             2.0|                       4.0|                      0.0|            0.0|              0.0|                0.0|         1.0|         0.0|[3.0,31.0,9.0,65....|\n",
            "|              1| 30|                7|                61|             5.0|                       2.0|                      1.0|            0.0|              0.0|                0.0|         0.0|        13.0|[1.0,30.0,7.0,61....|\n",
            "|              1| 36|                2|                68|             2.0|                       0.0|                      1.0|            0.0|              0.0|                0.0|         0.0|         2.0|[1.0,36.0,2.0,68....|\n",
            "|              1| 33|                3|                57|             5.0|                       1.0|                      0.0|            0.0|              0.0|                1.0|         0.0|         0.0|[1.0,33.0,3.0,57....|\n",
            "|              2| 36|                3|                85|             4.0|                       0.0|                      1.0|            0.0|              0.0|                0.0|         0.0|         1.0|[2.0,36.0,3.0,85....|\n",
            "|              1| 51|               11|                75|             3.0|                       2.0|                      0.0|            1.0|              0.0|                0.0|         0.0|         2.0|[1.0,51.0,11.0,75...|\n",
            "|              1| 29|                2|                76|             3.0|                       1.0|                      1.0|            0.0|              0.0|                1.0|         0.0|         1.0|[1.0,29.0,2.0,76....|\n",
            "|              2| 40|               12|                50|             0.0|                       1.0|                      1.0|            0.0|              0.0|                1.0|         0.0|         9.0|[2.0,40.0,12.0,50...|\n",
            "|              1| 40|               10|                46|             0.0|                       0.0|                      1.0|            1.0|              0.0|                0.0|         0.0|        19.0|[1.0,40.0,10.0,46...|\n",
            "|              1| 34|                4|                52|             0.0|                       0.0|                      0.0|            1.0|              0.0|                0.0|         1.0|         7.0|[1.0,34.0,4.0,52....|\n",
            "|              1| 37|               10|                82|             4.0|                       0.0|                      0.0|            0.0|              0.0|                0.0|         0.0|        26.0|(12,[0,1,2,3,4,11...|\n",
            "|              1| 30|                6|                58|             1.0|                       1.0|                      1.0|            0.0|              0.0|                1.0|         0.0|        11.0|[1.0,30.0,6.0,58....|\n",
            "|              1| 31|                4|                47|             0.0|                       2.0|                      1.0|            0.0|              0.0|                1.0|         0.0|         2.0|[1.0,31.0,4.0,47....|\n",
            "|              1| 26|                3|                56|             1.0|                       1.0|                      1.0|            0.0|              0.0|                0.0|         1.0|         8.0|[1.0,26.0,3.0,56....|\n",
            "|              1| 40|                6|                50|             0.0|                       1.0|                      1.0|            0.0|              0.0|                1.0|         0.0|        19.0|[1.0,40.0,6.0,50....|\n",
            "|              1| 49|                7|                64|             2.0|                       0.0|                      0.0|            0.0|              0.0|                1.0|         1.0|         2.0|[1.0,49.0,7.0,64....|\n",
            "|              1| 27|                5|                65|             2.0|                       4.0|                      0.0|            0.0|              0.0|                0.0|         0.0|         8.0|[1.0,27.0,5.0,65....|\n",
            "+---------------+---+-----------------+------------------+----------------+--------------------------+-------------------------+---------------+-----------------+-------------------+------------+------------+--------------------+\n",
            "only showing top 20 rows\n",
            "\n"
          ]
        }
      ]
    },
    {
      "cell_type": "code",
      "source": [
        "logitpredict=logitmodel.transform(hrtestdf)"
      ],
      "metadata": {
        "id": "XZHvNBMkBP62"
      },
      "execution_count": 70,
      "outputs": []
    },
    {
      "cell_type": "code",
      "source": [
        "logitpredict.select('prediction').toPandas().to_csv('logit.csv')"
      ],
      "metadata": {
        "id": "NTsKo2JXBlld"
      },
      "execution_count": 73,
      "outputs": []
    },
    {
      "cell_type": "code",
      "source": [
        "from pyspark.ml.classification import DecisionTreeClassifier"
      ],
      "metadata": {
        "id": "NH32E24-BnCt"
      },
      "execution_count": 74,
      "outputs": []
    },
    {
      "cell_type": "code",
      "source": [
        "tree = DecisionTreeClassifier(featuresCol='features',labelCol='label',maxBins=35)"
      ],
      "metadata": {
        "id": "d4jTv1UvDDCi"
      },
      "execution_count": 77,
      "outputs": []
    },
    {
      "cell_type": "code",
      "source": [
        "treemodel = tree.fit(hrtraindf)"
      ],
      "metadata": {
        "id": "qxkijUNGDLyv"
      },
      "execution_count": 78,
      "outputs": []
    },
    {
      "cell_type": "code",
      "source": [
        "treemodel=treemodel.transform(hrtraindf)"
      ],
      "metadata": {
        "id": "QWzwckYgDYmG"
      },
      "execution_count": 79,
      "outputs": []
    },
    {
      "cell_type": "code",
      "source": [
        "from pyspark.ml.evaluation import MulticlassClassificationEvaluator"
      ],
      "metadata": {
        "id": "9GOw4DUEDi3F"
      },
      "execution_count": 80,
      "outputs": []
    },
    {
      "cell_type": "code",
      "source": [
        "evaluator= MulticlassClassificationEvaluator(predictionCol='prediction',labelCol='label',metricName='accuracy')"
      ],
      "metadata": {
        "id": "SwKnzne-Dqs2"
      },
      "execution_count": 84,
      "outputs": []
    },
    {
      "cell_type": "code",
      "source": [
        "evaluator.evaluate(treemodel)"
      ],
      "metadata": {
        "colab": {
          "base_uri": "https://localhost:8080/"
        },
        "id": "rCLHGfcSED9I",
        "outputId": "9d52dcb1-ba12-4fca-e185-56e17c06c361"
      },
      "execution_count": 85,
      "outputs": [
        {
          "output_type": "execute_result",
          "data": {
            "text/plain": [
              "0.9275653189315428"
            ]
          },
          "metadata": {},
          "execution_count": 85
        }
      ]
    },
    {
      "cell_type": "code",
      "source": [
        "from pyspark.ml.classification import RandomForestClassifier"
      ],
      "metadata": {
        "id": "0NITLGgTEPb9"
      },
      "execution_count": 86,
      "outputs": []
    },
    {
      "cell_type": "code",
      "source": [
        "RF=RandomForestClassifier(featuresCol='features',labelCol='label',maxBins=35,numTrees=1000)"
      ],
      "metadata": {
        "id": "Bz9aWPXqQVtk"
      },
      "execution_count": 90,
      "outputs": []
    },
    {
      "cell_type": "code",
      "source": [
        "RFmodel= RF.fit(hrtraindf)"
      ],
      "metadata": {
        "id": "kC8crVktQgIv"
      },
      "execution_count": 91,
      "outputs": []
    },
    {
      "cell_type": "code",
      "source": [
        "RFmodel= RFmodel.transform(hrtraindf)"
      ],
      "metadata": {
        "id": "-khSkYwuQkYM"
      },
      "execution_count": 92,
      "outputs": []
    },
    {
      "cell_type": "code",
      "source": [
        "evaluator.evaluate(RFmodel)"
      ],
      "metadata": {
        "colab": {
          "base_uri": "https://localhost:8080/"
        },
        "id": "qCft2aqAQvJt",
        "outputId": "4deb3650-3f05-4152-c065-61bd68cd6b65"
      },
      "execution_count": 93,
      "outputs": [
        {
          "output_type": "execute_result",
          "data": {
            "text/plain": [
              "0.9260144504451905"
            ]
          },
          "metadata": {},
          "execution_count": 93
        }
      ]
    },
    {
      "cell_type": "code",
      "source": [
        "from pyspark.ml.classification import GBTClassifier"
      ],
      "metadata": {
        "id": "AkA4BXzwTAGE"
      },
      "execution_count": 95,
      "outputs": []
    },
    {
      "cell_type": "code",
      "source": [
        "gbm = GBTClassifier(featuresCol='features', labelCol='label',maxBins=35)"
      ],
      "metadata": {
        "id": "vYxB7x6MTGrv"
      },
      "execution_count": 96,
      "outputs": []
    },
    {
      "cell_type": "code",
      "source": [
        "gbmmodel= gbm.fit(hrtraindf)"
      ],
      "metadata": {
        "id": "MviFFP62TS5V"
      },
      "execution_count": 97,
      "outputs": []
    },
    {
      "cell_type": "code",
      "source": [
        "gbmmodel=gbmmodel= gbmmodel.transform(hrtraindf)"
      ],
      "metadata": {
        "id": "7mDubg-JTVy4"
      },
      "execution_count": 98,
      "outputs": []
    },
    {
      "cell_type": "code",
      "source": [
        "evaluator.evaluate(gbmmodel)"
      ],
      "metadata": {
        "colab": {
          "base_uri": "https://localhost:8080/"
        },
        "id": "9rO9M0lATcSc",
        "outputId": "ea215433-27c5-4e54-c7a7-4a9d6fb98e4a"
      },
      "execution_count": 99,
      "outputs": [
        {
          "output_type": "execute_result",
          "data": {
            "text/plain": [
              "0.9416873449131513"
            ]
          },
          "metadata": {},
          "execution_count": 99
        }
      ]
    },
    {
      "cell_type": "code",
      "source": [
        "from pyspark.ml.classification import MultilayerPerceptronClassifier"
      ],
      "metadata": {
        "id": "KIqMlSf1TfGq"
      },
      "execution_count": 100,
      "outputs": []
    },
    {
      "cell_type": "code",
      "source": [
        "nn= MultilayerPerceptronClassifier(featuresCol='features',labelCol='label',layers=[12,100,50,2])"
      ],
      "metadata": {
        "id": "F9SGx9LPUTa6"
      },
      "execution_count": 109,
      "outputs": []
    },
    {
      "cell_type": "code",
      "source": [
        "nnmodel = nn.fit(hrtraindf)"
      ],
      "metadata": {
        "id": "rCnrTVR4Ue8e"
      },
      "execution_count": 110,
      "outputs": []
    },
    {
      "cell_type": "code",
      "source": [
        "nnmodel=nnmodel.transform(hrtraindf)"
      ],
      "metadata": {
        "id": "8HJFdFO-Uhuk"
      },
      "execution_count": 111,
      "outputs": []
    },
    {
      "cell_type": "code",
      "source": [
        "evaluator.evaluate(nnmodel)"
      ],
      "metadata": {
        "colab": {
          "base_uri": "https://localhost:8080/"
        },
        "id": "N4KDQ9d5Umd1",
        "outputId": "ffd47290-c6fc-4d11-8b43-2710cf671154"
      },
      "execution_count": 112,
      "outputs": [
        {
          "output_type": "execute_result",
          "data": {
            "text/plain": [
              "0.9185702817106992"
            ]
          },
          "metadata": {},
          "execution_count": 112
        }
      ]
    },
    {
      "cell_type": "code",
      "source": [
        "from pyspark.ml.classification import NaiveBayes"
      ],
      "metadata": {
        "id": "n9C_RX64UrDF"
      },
      "execution_count": 113,
      "outputs": []
    },
    {
      "cell_type": "code",
      "source": [
        "nb= NaiveBayes(featuresCol='features',labelCol='label')"
      ],
      "metadata": {
        "id": "BWaWR5rWWUgi"
      },
      "execution_count": 114,
      "outputs": []
    },
    {
      "cell_type": "code",
      "source": [
        "nbmodel= nb.fit(hrtraindf)"
      ],
      "metadata": {
        "id": "Ryq5ANEzWaqV"
      },
      "execution_count": 116,
      "outputs": []
    },
    {
      "cell_type": "code",
      "source": [
        "nbmodel= nbmodel.transform(hrtraindf)"
      ],
      "metadata": {
        "id": "iso6wW0iWcpg"
      },
      "execution_count": 117,
      "outputs": []
    },
    {
      "cell_type": "code",
      "source": [
        "evaluator.evaluate(nbmodel)"
      ],
      "metadata": {
        "colab": {
          "base_uri": "https://localhost:8080/"
        },
        "id": "9YqNfWHsWhPg",
        "outputId": "7ccdd250-2484-43ee-86cf-4321f5fae20e"
      },
      "execution_count": 118,
      "outputs": [
        {
          "output_type": "execute_result",
          "data": {
            "text/plain": [
              "0.8809845278061597"
            ]
          },
          "metadata": {},
          "execution_count": 118
        }
      ]
    },
    {
      "cell_type": "code",
      "source": [
        ""
      ],
      "metadata": {
        "id": "Hti31cRLWkZi"
      },
      "execution_count": null,
      "outputs": []
    }
  ]
}